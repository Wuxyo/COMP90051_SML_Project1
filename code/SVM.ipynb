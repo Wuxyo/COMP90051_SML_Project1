{
 "cells": [
  {
   "cell_type": "code",
   "execution_count": 10,
   "metadata": {},
   "outputs": [
    {
     "name": "stdout",
     "output_type": "stream",
     "text": [
      "0.8.0\n"
     ]
    }
   ],
   "source": [
    "import pandas as pd\n",
    "import csv\n",
    "import time\n",
    "from sklearn.model_selection import train_test_split\n",
    "\n",
    "import warnings\n",
    "##visulation of NA\n",
    "import missingno\n",
    "\n",
    "\n",
    "# check version number\n",
    "import imblearn\n",
    "print(imblearn.__version__)\n",
    "\n",
    "from collections import Counter\n",
    "from matplotlib import pyplot\n",
    "from sklearn.preprocessing import LabelEncoder\n",
    "\n",
    "from numpy import mean\n",
    "from sklearn.model_selection import cross_val_score\n",
    "from sklearn.model_selection import RepeatedStratifiedKFold"
   ]
  },
  {
   "cell_type": "code",
   "execution_count": 7,
   "metadata": {},
   "outputs": [],
   "source": [
    "# load data\n",
    "train = pd.read_csv(\"train.csv\", header = None)\n",
    "\n",
    "test = pd.read_csv(\"test.csv\", header = None)\n",
    "\n",
    "#print(test.info())\n",
    "#train.info()\n"
   ]
  },
  {
   "cell_type": "code",
   "execution_count": 8,
   "metadata": {},
   "outputs": [
    {
     "data": {
      "text/plain": [
       "39"
      ]
     },
     "execution_count": 8,
     "metadata": {},
     "output_type": "execute_result"
    }
   ],
   "source": [
    "# minor_size is number of classes less than 500 instances\n",
    "minor_size = 0\n",
    "grouped = train.groupby(train.columns[-1])\n",
    "for k,group in grouped:\n",
    "        if len(group.index) < 500:\n",
    "            minor_size += 1\n",
    "        #print (\"Class label: \",k,end='')\n",
    "        #print(\"  Number:\",len(group.index), end='')\n",
    "        #print(\" (%.3f%%)\" %  float(len(group.index)/len(train)*100))\n",
    "minor_size"
   ]
  },
  {
   "cell_type": "markdown",
   "metadata": {},
   "source": [
    "## Split Data"
   ]
  },
  {
   "cell_type": "code",
   "execution_count": 9,
   "metadata": {},
   "outputs": [],
   "source": [
    "# exclude sample ID (1st column)\n",
    "x_train_valid = train.iloc[:,1:-1].to_numpy()\n",
    "y_train_valid = train.iloc[:,-1].to_numpy()\n",
    "\n",
    "#split a validation set for hyper-parameter tuning\n",
    "split_ratio = 0.2\n",
    "x_train, x_val, y_train, y_val = train_test_split(x_train_valid, y_train_valid, test_size=split_ratio, random_state=1,stratify = y_train_valid) \n",
    "\n",
    "x_test = test.iloc[:,1:].to_numpy()\n",
    "#y_test = test.iloc[:,-1].to_numpy()"
   ]
  },
  {
   "cell_type": "markdown",
   "metadata": {},
   "source": [
    "### Apply SMOTE"
   ]
  },
  {
   "cell_type": "code",
   "execution_count": 5,
   "metadata": {},
   "outputs": [
    {
     "name": "stdout",
     "output_type": "stream",
     "text": [
      "ada size:  25076\n",
      "bdsmt size:  22222\n",
      "smt size:  23128\n"
     ]
    }
   ],
   "source": [
    "from imblearn.over_sampling import ADASYN, BorderlineSMOTE, SMOTE\n",
    "\n",
    "# we only oversample during training\n",
    "ada = ADASYN(random_state = 42, sampling_strategy = 'minority', n_neighbors=5)\n",
    "bdsmt = BorderlineSMOTE(random_state = 42)\n",
    "smt = SMOTE(random_state = 42)\n",
    "\n",
    "x_ada_train = x_train.copy()\n",
    "y_ada_train = y_train.copy()\n",
    "\n",
    "x_bdsmt_train = x_train.copy()\n",
    "y_bdsmt_train = y_train.copy()\n",
    "\n",
    "x_smt_train = x_train.copy()\n",
    "y_smt_train = y_train.copy()\n",
    "\n",
    "# ada failed to resample all minority class at once, we manually resample minority classes(less than 500 instances)\n",
    "for i in range(minor_size):\n",
    "    x_ada_train, y_ada_train = ada.fit_resample(x_ada_train, y_ada_train)\n",
    "    \n",
    "    \n",
    "x_bdsmt_train, y_bdsmt_train = bdsmt.fit_resample(x_bdsmt_train, y_bdsmt_train)\n",
    "x_smt_train, y_smt_train = smt.fit_resample(x_smt_train, y_smt_train)\n",
    "\n",
    "\n",
    "\n",
    "#print(\"ada size: \", len(x_ada_train))\n",
    "#print(\"bdsmt size: \", len(x_bdsmt_train))\n",
    "print(\"ada size: \", len(y_ada_train))\n",
    "print(\"bdsmt size: \", len(y_bdsmt_train))\n",
    "print(\"smt size: \", len(y_smt_train))\n",
    "\n"
   ]
  },
  {
   "cell_type": "markdown",
   "metadata": {},
   "source": [
    "## Modelling"
   ]
  },
  {
   "cell_type": "markdown",
   "metadata": {},
   "source": [
    "### SVM\n",
    "\n",
    "- SMOTE(boardline, smote, ada) data (sampling method)\n",
    "    - svc\n",
    "    - svclinear"
   ]
  },
  {
   "cell_type": "code",
   "execution_count": 11,
   "metadata": {},
   "outputs": [],
   "source": [
    "from sklearn.model_selection import cross_validate\n",
    "from sklearn.model_selection import RepeatedStratifiedKFold\n",
    "from sklearn.metrics import plot_confusion_matrix\n",
    "from sklearn.metrics import accuracy_score\n",
    "from sklearn.metrics import classification_report\n",
    "import sklearn.metrics as metrics\n",
    "from sklearn.utils import class_weight\n",
    "from sklearn.svm import SVC, LinearSVC\n",
    "from sklearn.ensemble import AdaBoostClassifier\n",
    "import time"
   ]
  },
  {
   "cell_type": "code",
   "execution_count": 9,
   "metadata": {},
   "outputs": [],
   "source": [
    "Test_Accuracy_Data = pd.DataFrame(columns =  ['option','C','gamma','kernel',\n",
    "                                              'random_state','degree','dual','loss',\n",
    "                                              'Train ACC','Val ACC'])"
   ]
  },
  {
   "cell_type": "markdown",
   "metadata": {},
   "source": [
    "## SVC"
   ]
  },
  {
   "cell_type": "code",
   "execution_count": null,
   "metadata": {},
   "outputs": [],
   "source": [
    "trainStartTime = time.time()\n",
    "\n",
    "option = 'option 1-svc'\n",
    "\n",
    "C = 1.0\n",
    "\n",
    "gamma = 'auto'\n",
    "\n",
    "kernel = 'rbf'\n",
    "\n",
    "degree = 3\n",
    "\n",
    "random_state = 0\n",
    "\n",
    "\n",
    "dual = True\n",
    "\n",
    "loss = 'squared_hinge'\n",
    "\n",
    "\n",
    "\n",
    "svmc = SVC(C=C, gamma=gamma, kernel = kernel, random_state = random_state, degree = degree)\n",
    "\n",
    "model= svmc.fit(x_bdsmt_train, y_bdsmt_train)\n",
    "\n",
    "Test_Accuracy_Data_One = pd.DataFrame(index = range(1),columns = ['option','C','gamma','kernel',\n",
    "                                                                  'random_state','degree','dual','loss'\n",
    "                                                                  'Train ACC','Val ACC'])\n",
    "\n",
    "Test_Accuracy_Data_One.loc[:,'option'] = option\n",
    "Test_Accuracy_Data_One.loc[:,'C'] = C\n",
    "Test_Accuracy_Data_One.loc[:,'gamma'] = gamma\n",
    "Test_Accuracy_Data_One.loc[:,'kernel'] = kernel            \n",
    "Test_Accuracy_Data_One.loc[:,'random_state'] = random_state\n",
    "\n",
    "Test_Accuracy_Data_One.loc[:,'degree'] = degree\n",
    "Test_Accuracy_Data_One.loc[:,'dual'] = dual       \n",
    "Test_Accuracy_Data_One.loc[:,'loss'] = loss\n",
    "\n",
    "\n",
    "train_pre = svmc.predict(x_bdsmt_train)\n",
    "train_acc = svmc.score(x_bdsmt_train, y_bdsmt_train)\n",
    "train_acc1 = accuracy_score(y_bdsmt_train, train_pre)\n",
    "\n",
    "predictions = svmc.predict(x_val)\n",
    "acc = svmc.score(x_val, y_val)\n",
    "acc1 = accuracy_score(y_val, predictions)\n",
    "\n",
    "Test_Accuracy_Data_One.loc[:,'Train ACC'] = train_acc\n",
    "Test_Accuracy_Data_One.loc[:,'Val ACC'] = acc \n",
    "\n",
    "Test_Accuracy_Data = Test_Accuracy_Data.append(Test_Accuracy_Data_One)\n",
    "            \n",
    "print(train_acc1)\n",
    "print(acc1)\n",
    "\n",
    "trainFinishTime = time.time()\n",
    "print(\"Time spent on training is: \" + str(trainFinishTime - trainStartTime) + \" sec\")\n",
    "\n",
    "Test_Accuracy_Data"
   ]
  },
  {
   "cell_type": "code",
   "execution_count": 8,
   "metadata": {},
   "outputs": [],
   "source": [
    "#grid search for hyperparameter tunning\n",
    "from sklearn.model_selection import GridSearchCV\n",
    "\n",
    "trainStartTime = time.time()\n",
    "\n",
    "# function for acc\n",
    "def acc_score(cl,x,y):\n",
    "    pred = cl.predict(x_val)\n",
    "    acc=cl.score(x_val,y_val)\n",
    "    print(cl, acc)\n",
    "    return acc\n",
    "\n",
    "\n",
    "param = {'C': [0.1, 1, 10], \n",
    "              'gamma': [0.1, 0.01, 'scale'],\n",
    "              'kernel': ['rbf','linear']} \n",
    "\n",
    "grid = GridSearchCV(SVC(random_state = 0), param, n_jobs=-1, scoring=acc_score, verbose=10)\n",
    "\n",
    "# fitting the model for grid search\n",
    "grid.fit(x_bdsmt_train, y_bdsmt_train)\n",
    "pred=grid.predict(x_val)\n",
    "\n",
    "#print out the best parameters\n",
    "print(grid.best_params_)\n",
    "\n",
    "trainFinishTime = time.time()\n",
    "print(\"Time spent on training is: \" + str(trainFinishTime - trainStartTime) + \" sec\")"
   ]
  },
  {
   "cell_type": "markdown",
   "metadata": {},
   "source": [
    "## Linear SVC"
   ]
  },
  {
   "cell_type": "code",
   "execution_count": null,
   "metadata": {},
   "outputs": [],
   "source": [
    "trainStartTime = time.time()\n",
    "\n",
    "option = 'option 1-linearsvc'\n",
    "\n",
    "C = 1.0\n",
    "\n",
    "gamma = 'auto'\n",
    "\n",
    "kernel = 'rbf'\n",
    "\n",
    "degree = 3\n",
    "\n",
    "random_state = 0\n",
    "\n",
    "\n",
    "dual = True\n",
    "\n",
    "loss = 'squared_hinge'\n",
    "\n",
    "\n",
    "svmc = LinearSVC(C=C,random_state = random_state, dual = dual)\n",
    "\n",
    "\n",
    "model= svmc.fit(x_bdsmt_train, y_bdsmt_train)\n",
    "\n",
    "Test_Accuracy_Data_One = pd.DataFrame(index = range(1),columns = ['option','C','gamma','kernel',\n",
    "                                                                  'random_state','degree','dual','loss'\n",
    "                                                                  'Train ACC','Val ACC'])\n",
    "\n",
    "Test_Accuracy_Data_One.loc[:,'option'] = option\n",
    "Test_Accuracy_Data_One.loc[:,'C'] = C\n",
    "Test_Accuracy_Data_One.loc[:,'gamma'] = gamma\n",
    "Test_Accuracy_Data_One.loc[:,'kernel'] = kernel            \n",
    "Test_Accuracy_Data_One.loc[:,'random_state'] = random_state\n",
    "\n",
    "Test_Accuracy_Data_One.loc[:,'degree'] = degree\n",
    "Test_Accuracy_Data_One.loc[:,'dual'] = dual       \n",
    "Test_Accuracy_Data_One.loc[:,'loss'] = loss\n",
    "\n",
    "\n",
    "train_pre = svmc.predict(x_bdsmt_train)\n",
    "train_acc = svmc.score(x_bdsmt_train, y_bdsmt_train)\n",
    "train_acc1 = accuracy_score(y_bdsmt_train, train_pre)\n",
    "\n",
    "predictions = svmc.predict(x_val)\n",
    "acc = svmc.score(x_val, y_val)\n",
    "acc1 = accuracy_score(y_val, predictions)\n",
    "\n",
    "Test_Accuracy_Data_One.loc[:,'Train ACC'] = train_acc\n",
    "Test_Accuracy_Data_One.loc[:,'Val ACC'] = acc \n",
    "\n",
    "Test_Accuracy_Data = Test_Accuracy_Data.append(Test_Accuracy_Data_One)\n",
    "            \n",
    "print(train_acc1)\n",
    "print(acc1)\n",
    "\n",
    "trainFinishTime = time.time()\n",
    "print(\"Time spent on training is: \" + str(trainFinishTime - trainStartTime) + \" sec\")\n",
    "\n",
    "Test_Accuracy_Data"
   ]
  },
  {
   "cell_type": "code",
   "execution_count": null,
   "metadata": {},
   "outputs": [],
   "source": [
    "#grid search for hyperparameter tunning\n",
    "from sklearn.model_selection import GridSearchCV\n",
    "\n",
    "trainStartTime = time.time()\n",
    "\n",
    "# function for acc\n",
    "def acc_score(cl,x,y):\n",
    "    pred = cl.predict(x_val)\n",
    "    acc=cl.score(x_val,y_val)\n",
    "    print(cl, acc)\n",
    "    return acc\n",
    "\n",
    "# defining parameter range\n",
    "param = {'C': [0.1, 1, 10],\n",
    "        'dual' : [True, False]} \n",
    "\n",
    "grid = GridSearchCV(LinearSVC(random_state = 0), param, n_jobs=-1, scoring=acc_score, verbose=10)\n",
    "\n",
    "# fitting the model for grid search\n",
    "grid.fit(x_bdsmt_train, y_bdsmt_train)\n",
    "pred=grid.predict(x_val)\n",
    "\n",
    "#print out the best parameters\n",
    "print(grid.best_params_)\n",
    "\n",
    "trainFinishTime = time.time()\n",
    "print(\"Time spent on training is: \" + str(trainFinishTime - trainStartTime) + \" sec\")"
   ]
  },
  {
   "cell_type": "markdown",
   "metadata": {},
   "source": [
    "## Output Final Result\n"
   ]
  },
  {
   "cell_type": "code",
   "execution_count": null,
   "metadata": {},
   "outputs": [],
   "source": [
    "# test on the test data\n",
    "predictions=svmc.predict(x_test)\n",
    "\n",
    "with open(\"svm_out.csv\",\"w\", newline=\"\") as csvfile:\n",
    "    writer=csv.writer(csvfile)\n",
    "    writer.writerow([\"Id\",\"Category\"])\n",
    "    test_id = 0\n",
    "    for pred in predictions:\n",
    "        writer.writerow([test_id, pred])\n",
    "        test_id+=1"
   ]
  },
  {
   "cell_type": "code",
   "execution_count": null,
   "metadata": {},
   "outputs": [],
   "source": []
  },
  {
   "cell_type": "code",
   "execution_count": null,
   "metadata": {},
   "outputs": [],
   "source": []
  }
 ],
 "metadata": {
  "kernelspec": {
   "display_name": "Python 3",
   "language": "python",
   "name": "python3"
  },
  "language_info": {
   "codemirror_mode": {
    "name": "ipython",
    "version": 3
   },
   "file_extension": ".py",
   "mimetype": "text/x-python",
   "name": "python",
   "nbconvert_exporter": "python",
   "pygments_lexer": "ipython3",
   "version": "3.7.4"
  }
 },
 "nbformat": 4,
 "nbformat_minor": 4
}
