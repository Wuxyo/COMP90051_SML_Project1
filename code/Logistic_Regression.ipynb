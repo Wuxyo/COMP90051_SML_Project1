{
 "cells": [
  {
   "cell_type": "code",
   "execution_count": 1,
   "metadata": {},
   "outputs": [
    {
     "name": "stderr",
     "output_type": "stream",
     "text": [
      "\n",
      "Bad key \"text.kerning_factor\" on line 4 in\n",
      "/Users/apple/miniconda3/lib/python3.7/site-packages/matplotlib/mpl-data/stylelib/_classic_test_patch.mplstyle.\n",
      "You probably need to get an updated matplotlibrc file from\n",
      "http://github.com/matplotlib/matplotlib/blob/master/matplotlibrc.template\n",
      "or from the matplotlib source distribution\n"
     ]
    },
    {
     "name": "stdout",
     "output_type": "stream",
     "text": [
      "0.8.0\n"
     ]
    }
   ],
   "source": [
    "import pandas as pd\n",
    "import csv\n",
    "import time\n",
    "from sklearn.model_selection import train_test_split\n",
    "\n",
    "# check version number\n",
    "import imblearn\n",
    "print(imblearn.__version__)\n",
    "\n",
    "from collections import Counter\n",
    "from matplotlib import pyplot\n",
    "from sklearn.preprocessing import LabelEncoder\n",
    "\n",
    "from numpy import mean\n",
    "from sklearn.datasets import make_classification\n",
    "from sklearn.model_selection import cross_val_score\n",
    "from sklearn.model_selection import RepeatedStratifiedKFold\n",
    "from sklearn.linear_model import LogisticRegression\n"
   ]
  },
  {
   "cell_type": "code",
   "execution_count": 2,
   "metadata": {},
   "outputs": [
    {
     "name": "stdout",
     "output_type": "stream",
     "text": [
      "<class 'pandas.core.frame.DataFrame'>\n",
      "RangeIndex: 2959 entries, 0 to 2958\n",
      "Columns: 961 entries, 0 to 960\n",
      "dtypes: float64(960), int64(1)\n",
      "memory usage: 21.7 MB\n",
      "None\n",
      "<class 'pandas.core.frame.DataFrame'>\n",
      "RangeIndex: 9388 entries, 0 to 9387\n",
      "Columns: 962 entries, 0 to 961\n",
      "dtypes: float64(960), int64(2)\n",
      "memory usage: 68.9 MB\n"
     ]
    }
   ],
   "source": [
    "# load data\n",
    "train = pd.read_csv(\"train.csv\", header = None)\n",
    "\n",
    "test = pd.read_csv(\"test.csv\", header = None)\n",
    "FEATURE_SIZE=3\n",
    "\n",
    "print(test.info())\n",
    "train.info()\n"
   ]
  },
  {
   "cell_type": "code",
   "execution_count": 3,
   "metadata": {},
   "outputs": [
    {
     "name": "stdout",
     "output_type": "stream",
     "text": [
      "Class label:  1  Number: 578 (6.157%)\n",
      "Class label:  2  Number: 579 (6.167%)\n",
      "Class label:  3  Number: 590 (6.285%)\n",
      "Class label:  4  Number: 571 (6.082%)\n",
      "Class label:  5  Number: 577 (6.146%)\n",
      "Class label:  6  Number: 580 (6.178%)\n",
      "Class label:  7  Number: 570 (6.072%)\n",
      "Class label:  8  Number: 580 (6.178%)\n",
      "Class label:  9  Number: 586 (6.242%)\n",
      "Class label:  10  Number: 579 (6.167%)\n",
      "Class label:  11  Number: 190 (2.024%)\n",
      "Class label:  12  Number: 195 (2.077%)\n",
      "Class label:  13  Number: 196 (2.088%)\n",
      "Class label:  14  Number: 190 (2.024%)\n",
      "Class label:  15  Number: 190 (2.024%)\n",
      "Class label:  16  Number: 194 (2.066%)\n",
      "Class label:  17  Number: 193 (2.056%)\n",
      "Class label:  18  Number: 190 (2.024%)\n",
      "Class label:  19  Number: 193 (2.056%)\n",
      "Class label:  20  Number: 195 (2.077%)\n",
      "Class label:  21  Number: 98 (1.044%)\n",
      "Class label:  22  Number: 97 (1.033%)\n",
      "Class label:  23  Number: 97 (1.033%)\n",
      "Class label:  24  Number: 98 (1.044%)\n",
      "Class label:  25  Number: 96 (1.023%)\n",
      "Class label:  26  Number: 98 (1.044%)\n",
      "Class label:  27  Number: 98 (1.044%)\n",
      "Class label:  28  Number: 97 (1.033%)\n",
      "Class label:  29  Number: 97 (1.033%)\n",
      "Class label:  30  Number: 95 (1.012%)\n",
      "Class label:  31  Number: 49 (0.522%)\n",
      "Class label:  32  Number: 48 (0.511%)\n",
      "Class label:  33  Number: 49 (0.522%)\n",
      "Class label:  34  Number: 48 (0.511%)\n",
      "Class label:  35  Number: 48 (0.511%)\n",
      "Class label:  36  Number: 47 (0.501%)\n",
      "Class label:  37  Number: 49 (0.522%)\n",
      "Class label:  38  Number: 49 (0.522%)\n",
      "Class label:  39  Number: 48 (0.511%)\n",
      "Class label:  40  Number: 49 (0.522%)\n",
      "Class label:  41  Number: 24 (0.256%)\n",
      "Class label:  42  Number: 25 (0.266%)\n",
      "Class label:  43  Number: 24 (0.256%)\n",
      "Class label:  44  Number: 24 (0.256%)\n",
      "Class label:  45  Number: 24 (0.256%)\n",
      "Class label:  46  Number: 24 (0.256%)\n",
      "Class label:  47  Number: 24 (0.256%)\n",
      "Class label:  48  Number: 24 (0.256%)\n",
      "Class label:  49  Number: 24 (0.256%)\n"
     ]
    },
    {
     "data": {
      "text/plain": [
       "39"
      ]
     },
     "execution_count": 3,
     "metadata": {},
     "output_type": "execute_result"
    }
   ],
   "source": [
    "# minor_size is number of classes less than 500 instances\n",
    "minor_size = 0\n",
    "grouped = train.groupby(train.columns[-1])\n",
    "for k,group in grouped:\n",
    "        if len(group.index) < 500:\n",
    "            minor_size += 1\n",
    "        print (\"Class label: \",k,end='')\n",
    "        print(\"  Number:\",len(group.index), end='')\n",
    "        print(\" (%.3f%%)\" %  float(len(group.index)/len(train)*100))\n",
    "minor_size"
   ]
  },
  {
   "cell_type": "markdown",
   "metadata": {},
   "source": [
    "## Split Data"
   ]
  },
  {
   "cell_type": "code",
   "execution_count": 4,
   "metadata": {},
   "outputs": [],
   "source": [
    "# exclude sample ID (1st column)\n",
    "x_train_valid = train.iloc[:,1:-1].to_numpy()\n",
    "y_train_valid = train.iloc[:,-1].to_numpy()\n",
    "\n",
    "#split a validation set for hyper-parameter tuning\n",
    "split_ratio = 0.2\n",
    "x_train, x_val, y_train, y_val = train_test_split(x_train_valid, y_train_valid, test_size=split_ratio, random_state=1,stratify = y_train_valid) \n",
    "\n",
    "# Feature Scaling\n",
    "from sklearn.preprocessing import StandardScaler\n",
    "sc = StandardScaler()\n",
    "#x_train_sc = sc.fit_transform(x_train)\n",
    "#x_val_sc = sc.transform(x_val)\n",
    "\n",
    "x_test = test.iloc[:,1:].to_numpy()\n",
    "y_test = test.iloc[:,-1].to_numpy()\n"
   ]
  },
  {
   "cell_type": "markdown",
   "metadata": {},
   "source": [
    "### Apply SMOTE"
   ]
  },
  {
   "cell_type": "code",
   "execution_count": 5,
   "metadata": {},
   "outputs": [
    {
     "name": "stdout",
     "output_type": "stream",
     "text": [
      "bdsmt size:  22222\n"
     ]
    }
   ],
   "source": [
    "from imblearn.over_sampling import ADASYN, BorderlineSMOTE, SMOTE\n",
    "\n",
    "# we only oversample during training\n",
    "ada = ADASYN(random_state = 42, sampling_strategy = 'minority', n_neighbors=5)\n",
    "bdsmt = BorderlineSMOTE(random_state = 42)\n",
    "smt = SMOTE(random_state = 42)\n",
    "\n",
    "x_ada_train = x_train.copy()\n",
    "y_ada_train = y_train.copy()\n",
    "\n",
    "x_bdsmt_train = x_train.copy()\n",
    "y_bdsmt_train = y_train.copy()\n",
    "\n",
    "x_smt_train = x_train.copy()\n",
    "y_smt_train = y_train.copy()\n",
    "\n",
    "# ada failed to resample all minority class at once, we manually resample minority classes(less than 500 instances)\n",
    "for i in range(minor_size):\n",
    "    x_ada_train, y_ada_train = ada.fit_resample(x_ada_train, y_ada_train)\n",
    "    \n",
    "    \n",
    "x_bdsmt_train, y_bdsmt_train = bdsmt.fit_resample(x_bdsmt_train, y_bdsmt_train)\n",
    "x_smt_train, y_smt_train = smt.fit_resample(x_smt_train, y_smt_train)\n",
    "\n",
    "#print(\"ada size: \", len(x_ada_train))\n",
    "#print(\"bdsmt size: \", len(x_bdsmt_train))\n",
    "#print(\"ada size: \", len(y_ada_train))\n",
    "print(\"bdsmt size: \", len(y_bdsmt_train))\n",
    "#print(\"smt size: \", len(y_smt_train))"
   ]
  },
  {
   "cell_type": "markdown",
   "metadata": {},
   "source": [
    "## Normalizing and PCA"
   ]
  },
  {
   "cell_type": "code",
   "execution_count": 14,
   "metadata": {},
   "outputs": [
    {
     "name": "stdout",
     "output_type": "stream",
     "text": [
      "(25076, 300) (22222, 300)\n"
     ]
    }
   ],
   "source": [
    "from sklearn.decomposition import PCA\n",
    "from sklearn import preprocessing\n",
    "import numpy as np\n",
    "\n",
    "\n",
    "pca = PCA(n_components=300)\n",
    "#pca = PCA(n_components = 'mle')\n",
    "\n",
    "# normalize data first, then PCA\n",
    "x_ada_train_norm = preprocessing.normalize(x_ada_train)\n",
    "x_bdsmt_train_norm = preprocessing.normalize(x_bdsmt_train)\n",
    "x_val_norm = preprocessing.normalize(x_val)\n",
    "# PCA data\n",
    "x_ada_train_pca =  pca.fit_transform(x_ada_train_norm)\n",
    "x_bdsmt_train_pca =  pca.fit_transform(x_bdsmt_train_norm)\n",
    "x_val_pca = pca.fit_transform(x_val_norm)\n",
    "\n",
    "print(x_ada_train_pca.shape, x_bdsmt_train_pca.shape)\n"
   ]
  },
  {
   "cell_type": "markdown",
   "metadata": {},
   "source": [
    "## Modelling"
   ]
  },
  {
   "cell_type": "code",
   "execution_count": 22,
   "metadata": {},
   "outputs": [
    {
     "data": {
      "text/plain": [
       "LogisticRegression(C=1e-06, max_iter=500, multi_class='multinomial', n_jobs=-1)"
      ]
     },
     "execution_count": 22,
     "metadata": {},
     "output_type": "execute_result"
    }
   ],
   "source": [
    "from sklearn import linear_model\n",
    "lr=linear_model.LogisticRegression(solver='lbfgs', multi_class='multinomial', \n",
    "                                   C = 0.000001, n_jobs = -1, max_iter = 500)\n",
    "lr.fit(x_bdsmt_train,y_bdsmt_train)\n"
   ]
  },
  {
   "cell_type": "code",
   "execution_count": 23,
   "metadata": {},
   "outputs": [
    {
     "name": "stdout",
     "output_type": "stream",
     "text": [
      "0.2124600638977636\n"
     ]
    }
   ],
   "source": [
    "#C = 0.000001, max_iter = 500\n",
    "pre=lr.predict(x_val)\n",
    "# print(pre)\n",
    "acc=lr.score(x_val,y_val)\n",
    "print(acc)"
   ]
  },
  {
   "cell_type": "code",
   "execution_count": 21,
   "metadata": {},
   "outputs": [
    {
     "name": "stdout",
     "output_type": "stream",
     "text": [
      "0.2103301384451544\n"
     ]
    }
   ],
   "source": [
    "#C = 0.0000001, max_iter = 500\n",
    "pre=lr.predict(x_val)\n",
    "# print(pre)\n",
    "acc=lr.score(x_val,y_val)\n",
    "print(acc)"
   ]
  },
  {
   "cell_type": "code",
   "execution_count": 24,
   "metadata": {},
   "outputs": [
    {
     "data": {
      "text/plain": [
       "LogisticRegression(C=1e-05, max_iter=500, multi_class='multinomial', n_jobs=-1)"
      ]
     },
     "execution_count": 24,
     "metadata": {},
     "output_type": "execute_result"
    }
   ],
   "source": [
    "from sklearn import linear_model\n",
    "lr1=linear_model.LogisticRegression(solver='lbfgs', multi_class='multinomial', \n",
    "                                   C = 0.00001, n_jobs = -1, max_iter = 500)\n",
    "lr1.fit(x_bdsmt_train,y_bdsmt_train)"
   ]
  },
  {
   "cell_type": "code",
   "execution_count": 25,
   "metadata": {},
   "outputs": [],
   "source": [
    "#C = 0.00001, max_iter = 500\n",
    "train_pre = lr1.predict(x_bdsmt_train)\n",
    "train_acc = lr1.score(x_bdsmt_train, y_bdsmt_train)\n",
    "\n",
    "pre1=lr1.predict(x_val)\n",
    "val_acc1=lr1.score(x_val,y_val)\n"
   ]
  },
  {
   "cell_type": "code",
   "execution_count": 28,
   "metadata": {},
   "outputs": [
    {
     "name": "stdout",
     "output_type": "stream",
     "text": [
      "train_acc 0.7952479524795248\n",
      "val_acc1 0.25292864749733757\n"
     ]
    }
   ],
   "source": [
    "print(\"train_acc\", train_acc)\n",
    "print(\"val_acc1\", val_acc1)"
   ]
  },
  {
   "cell_type": "code",
   "execution_count": 17,
   "metadata": {},
   "outputs": [
    {
     "name": "stdout",
     "output_type": "stream",
     "text": [
      "0.20820021299254526\n"
     ]
    }
   ],
   "source": [
    "#C = 0.00001\n",
    "pre=lr.predict(x_val)\n",
    "# print(pre)\n",
    "acc=lr.score(x_val,y_val)\n",
    "print(acc)"
   ]
  },
  {
   "cell_type": "code",
   "execution_count": 15,
   "metadata": {},
   "outputs": [
    {
     "name": "stdout",
     "output_type": "stream",
     "text": [
      "0.19382321618743345\n"
     ]
    }
   ],
   "source": [
    "#C = 0.0001\n",
    "pre=lr.predict(x_val)\n",
    "# print(pre)\n",
    "acc=lr.score(x_val,y_val)\n",
    "print(acc)"
   ]
  },
  {
   "cell_type": "code",
   "execution_count": 12,
   "metadata": {},
   "outputs": [
    {
     "name": "stdout",
     "output_type": "stream",
     "text": [
      "0.19382321618743345\n"
     ]
    }
   ],
   "source": [
    "#C = 10\n",
    "pre=lr.predict(x_val)\n",
    "# print(pre)\n",
    "acc=lr.score(x_val,y_val)\n",
    "print(acc)"
   ]
  },
  {
   "cell_type": "code",
   "execution_count": 10,
   "metadata": {},
   "outputs": [
    {
     "name": "stdout",
     "output_type": "stream",
     "text": [
      "0.1954206602768903\n"
     ]
    }
   ],
   "source": [
    "#C = 0.01\n",
    "pre=lr.predict(x_val)\n",
    "# print(pre)\n",
    "acc=lr.score(x_val,y_val)\n",
    "print(acc)"
   ]
  },
  {
   "cell_type": "code",
   "execution_count": 7,
   "metadata": {},
   "outputs": [
    {
     "name": "stdout",
     "output_type": "stream",
     "text": [
      "0.19382321618743345\n"
     ]
    }
   ],
   "source": [
    "#C = 0.1\n",
    "pre=lr.predict(x_val)\n",
    "# print(pre)\n",
    "acc=lr.score(x_val,y_val)\n",
    "print(acc)"
   ]
  },
  {
   "cell_type": "code",
   "execution_count": 8,
   "metadata": {},
   "outputs": [
    {
     "name": "stdout",
     "output_type": "stream",
     "text": [
      "0.19329073482428116\n"
     ]
    }
   ],
   "source": [
    "#C = 1\n",
    "pre=lr.predict(x_val)\n",
    "# print(pre)\n",
    "acc=lr.score(x_val,y_val)\n",
    "print(acc)\n"
   ]
  },
  {
   "cell_type": "code",
   "execution_count": null,
   "metadata": {},
   "outputs": [],
   "source": []
  },
  {
   "cell_type": "code",
   "execution_count": null,
   "metadata": {},
   "outputs": [],
   "source": []
  }
 ],
 "metadata": {
  "kernelspec": {
   "display_name": "Python 3",
   "language": "python",
   "name": "python3"
  },
  "language_info": {
   "codemirror_mode": {
    "name": "ipython",
    "version": 3
   },
   "file_extension": ".py",
   "mimetype": "text/x-python",
   "name": "python",
   "nbconvert_exporter": "python",
   "pygments_lexer": "ipython3",
   "version": "3.7.4"
  }
 },
 "nbformat": 4,
 "nbformat_minor": 4
}
